{
 "cells": [
  {
   "cell_type": "code",
   "execution_count": 2,
   "id": "d6bd24fe",
   "metadata": {},
   "outputs": [],
   "source": [
    "import pandas as pd\n",
    "import numpy as np \n",
    "import matplotlib.pyplot as plt \n",
    "import seaborn as sns\n",
    "import warnings \n",
    "warnings.filterwarnings(\"ignore\")\n",
    "pd.set_option(\"display.max_columns\", None)"
   ]
  },
  {
   "cell_type": "code",
   "execution_count": 3,
   "id": "c0398e40",
   "metadata": {},
   "outputs": [
    {
     "data": {
      "text/html": [
       "<div>\n",
       "<style scoped>\n",
       "    .dataframe tbody tr th:only-of-type {\n",
       "        vertical-align: middle;\n",
       "    }\n",
       "\n",
       "    .dataframe tbody tr th {\n",
       "        vertical-align: top;\n",
       "    }\n",
       "\n",
       "    .dataframe thead th {\n",
       "        text-align: right;\n",
       "    }\n",
       "</style>\n",
       "<table border=\"1\" class=\"dataframe\">\n",
       "  <thead>\n",
       "    <tr style=\"text-align: right;\">\n",
       "      <th></th>\n",
       "      <th>Distance</th>\n",
       "      <th>weight_of-goods</th>\n",
       "      <th>Freight_cost</th>\n",
       "      <th>Shipping_Charge_seaways</th>\n",
       "      <th>Shipping_Charge_airways</th>\n",
       "      <th>No_of_days_seaways</th>\n",
       "      <th>No_of_hours_Airways</th>\n",
       "      <th>Fast_Delivery</th>\n",
       "      <th>c</th>\n",
       "      <th>outcome</th>\n",
       "    </tr>\n",
       "  </thead>\n",
       "  <tbody>\n",
       "    <tr>\n",
       "      <th>0</th>\n",
       "      <td>48661</td>\n",
       "      <td>5968</td>\n",
       "      <td>630</td>\n",
       "      <td>5138648</td>\n",
       "      <td>3759840</td>\n",
       "      <td>11</td>\n",
       "      <td>6</td>\n",
       "      <td>1</td>\n",
       "      <td>44.424331</td>\n",
       "      <td>1</td>\n",
       "    </tr>\n",
       "    <tr>\n",
       "      <th>1</th>\n",
       "      <td>39701</td>\n",
       "      <td>4007</td>\n",
       "      <td>511</td>\n",
       "      <td>9552456</td>\n",
       "      <td>2047577</td>\n",
       "      <td>26</td>\n",
       "      <td>8</td>\n",
       "      <td>1</td>\n",
       "      <td>57.911018</td>\n",
       "      <td>1</td>\n",
       "    </tr>\n",
       "    <tr>\n",
       "      <th>2</th>\n",
       "      <td>48439</td>\n",
       "      <td>6299</td>\n",
       "      <td>821</td>\n",
       "      <td>6632413</td>\n",
       "      <td>5171479</td>\n",
       "      <td>24</td>\n",
       "      <td>3</td>\n",
       "      <td>1</td>\n",
       "      <td>58.928909</td>\n",
       "      <td>1</td>\n",
       "    </tr>\n",
       "    <tr>\n",
       "      <th>3</th>\n",
       "      <td>8974</td>\n",
       "      <td>1968</td>\n",
       "      <td>532</td>\n",
       "      <td>5473828</td>\n",
       "      <td>1046976</td>\n",
       "      <td>15</td>\n",
       "      <td>3</td>\n",
       "      <td>1</td>\n",
       "      <td>32.553756</td>\n",
       "      <td>1</td>\n",
       "    </tr>\n",
       "    <tr>\n",
       "      <th>4</th>\n",
       "      <td>26115</td>\n",
       "      <td>2456</td>\n",
       "      <td>637</td>\n",
       "      <td>7746956</td>\n",
       "      <td>1564472</td>\n",
       "      <td>21</td>\n",
       "      <td>9</td>\n",
       "      <td>1</td>\n",
       "      <td>46.485539</td>\n",
       "      <td>1</td>\n",
       "    </tr>\n",
       "    <tr>\n",
       "      <th>...</th>\n",
       "      <td>...</td>\n",
       "      <td>...</td>\n",
       "      <td>...</td>\n",
       "      <td>...</td>\n",
       "      <td>...</td>\n",
       "      <td>...</td>\n",
       "      <td>...</td>\n",
       "      <td>...</td>\n",
       "      <td>...</td>\n",
       "      <td>...</td>\n",
       "    </tr>\n",
       "    <tr>\n",
       "      <th>99995</th>\n",
       "      <td>11041</td>\n",
       "      <td>6650</td>\n",
       "      <td>523</td>\n",
       "      <td>6158623</td>\n",
       "      <td>3477950</td>\n",
       "      <td>29</td>\n",
       "      <td>3</td>\n",
       "      <td>1</td>\n",
       "      <td>48.108504</td>\n",
       "      <td>1</td>\n",
       "    </tr>\n",
       "    <tr>\n",
       "      <th>99996</th>\n",
       "      <td>21757</td>\n",
       "      <td>8075</td>\n",
       "      <td>945</td>\n",
       "      <td>5877422</td>\n",
       "      <td>7630875</td>\n",
       "      <td>11</td>\n",
       "      <td>1</td>\n",
       "      <td>1</td>\n",
       "      <td>67.437307</td>\n",
       "      <td>0</td>\n",
       "    </tr>\n",
       "    <tr>\n",
       "      <th>99997</th>\n",
       "      <td>43435</td>\n",
       "      <td>752</td>\n",
       "      <td>866</td>\n",
       "      <td>6923003</td>\n",
       "      <td>651232</td>\n",
       "      <td>25</td>\n",
       "      <td>2</td>\n",
       "      <td>1</td>\n",
       "      <td>37.813362</td>\n",
       "      <td>1</td>\n",
       "    </tr>\n",
       "    <tr>\n",
       "      <th>99998</th>\n",
       "      <td>49939</td>\n",
       "      <td>7501</td>\n",
       "      <td>909</td>\n",
       "      <td>7784562</td>\n",
       "      <td>6818409</td>\n",
       "      <td>21</td>\n",
       "      <td>3</td>\n",
       "      <td>1</td>\n",
       "      <td>72.902639</td>\n",
       "      <td>1</td>\n",
       "    </tr>\n",
       "    <tr>\n",
       "      <th>99999</th>\n",
       "      <td>31989</td>\n",
       "      <td>5733</td>\n",
       "      <td>849</td>\n",
       "      <td>9732228</td>\n",
       "      <td>4867317</td>\n",
       "      <td>25</td>\n",
       "      <td>8</td>\n",
       "      <td>1</td>\n",
       "      <td>72.885272</td>\n",
       "      <td>1</td>\n",
       "    </tr>\n",
       "  </tbody>\n",
       "</table>\n",
       "<p>100000 rows × 10 columns</p>\n",
       "</div>"
      ],
      "text/plain": [
       "       Distance  weight_of-goods  Freight_cost  Shipping_Charge_seaways  \\\n",
       "0         48661             5968           630                  5138648   \n",
       "1         39701             4007           511                  9552456   \n",
       "2         48439             6299           821                  6632413   \n",
       "3          8974             1968           532                  5473828   \n",
       "4         26115             2456           637                  7746956   \n",
       "...         ...              ...           ...                      ...   \n",
       "99995     11041             6650           523                  6158623   \n",
       "99996     21757             8075           945                  5877422   \n",
       "99997     43435              752           866                  6923003   \n",
       "99998     49939             7501           909                  7784562   \n",
       "99999     31989             5733           849                  9732228   \n",
       "\n",
       "       Shipping_Charge_airways  No_of_days_seaways  No_of_hours_Airways  \\\n",
       "0                      3759840                  11                    6   \n",
       "1                      2047577                  26                    8   \n",
       "2                      5171479                  24                    3   \n",
       "3                      1046976                  15                    3   \n",
       "4                      1564472                  21                    9   \n",
       "...                        ...                 ...                  ...   \n",
       "99995                  3477950                  29                    3   \n",
       "99996                  7630875                  11                    1   \n",
       "99997                   651232                  25                    2   \n",
       "99998                  6818409                  21                    3   \n",
       "99999                  4867317                  25                    8   \n",
       "\n",
       "       Fast_Delivery          c  outcome  \n",
       "0                  1  44.424331        1  \n",
       "1                  1  57.911018        1  \n",
       "2                  1  58.928909        1  \n",
       "3                  1  32.553756        1  \n",
       "4                  1  46.485539        1  \n",
       "...              ...        ...      ...  \n",
       "99995              1  48.108504        1  \n",
       "99996              1  67.437307        0  \n",
       "99997              1  37.813362        1  \n",
       "99998              1  72.902639        1  \n",
       "99999              1  72.885272        1  \n",
       "\n",
       "[100000 rows x 10 columns]"
      ]
     },
     "execution_count": 3,
     "metadata": {},
     "output_type": "execute_result"
    }
   ],
   "source": [
    "data = pd.read_csv(r\"C:\\Users\\Narasimha Reddy\\OneDrive\\Desktop\\Bootcamp\\dataa1.csv\", header=0)\n",
    "data"
   ]
  },
  {
   "cell_type": "code",
   "execution_count": 4,
   "id": "2d6c6612",
   "metadata": {},
   "outputs": [
    {
     "name": "stdout",
     "output_type": "stream",
     "text": [
      "<class 'pandas.core.frame.DataFrame'>\n",
      "RangeIndex: 100000 entries, 0 to 99999\n",
      "Data columns (total 10 columns):\n",
      " #   Column                   Non-Null Count   Dtype  \n",
      "---  ------                   --------------   -----  \n",
      " 0   Distance                 100000 non-null  int64  \n",
      " 1   weight_of-goods          100000 non-null  int64  \n",
      " 2   Freight_cost             100000 non-null  int64  \n",
      " 3   Shipping_Charge_seaways  100000 non-null  int64  \n",
      " 4   Shipping_Charge_airways  100000 non-null  int64  \n",
      " 5   No_of_days_seaways       100000 non-null  int64  \n",
      " 6   No_of_hours_Airways      100000 non-null  int64  \n",
      " 7   Fast_Delivery            100000 non-null  int64  \n",
      " 8   c                        100000 non-null  float64\n",
      " 9   outcome                  100000 non-null  int64  \n",
      "dtypes: float64(1), int64(9)\n",
      "memory usage: 7.6 MB\n"
     ]
    }
   ],
   "source": [
    "data.info()"
   ]
  },
  {
   "cell_type": "code",
   "execution_count": 5,
   "id": "8d212190",
   "metadata": {},
   "outputs": [
    {
     "data": {
      "text/plain": [
       "Index(['Distance', 'weight_of-goods', 'Freight_cost',\n",
       "       'Shipping_Charge_seaways', 'Shipping_Charge_airways',\n",
       "       'No_of_days_seaways', 'No_of_hours_Airways', 'Fast_Delivery', 'c',\n",
       "       'outcome'],\n",
       "      dtype='object')"
      ]
     },
     "execution_count": 5,
     "metadata": {},
     "output_type": "execute_result"
    }
   ],
   "source": [
    "data.columns"
   ]
  },
  {
   "cell_type": "code",
   "execution_count": 6,
   "id": "aa32f0da",
   "metadata": {},
   "outputs": [],
   "source": [
    "x=data[['Distance', 'weight_of-goods', 'Freight_cost','Shipping_Charge_seaways', 'Shipping_Charge_airways','No_of_days_seaways', 'No_of_hours_Airways', 'Fast_Delivery']]\n",
    "y_=data[['c']]\n",
    "y=data[['outcome']]"
   ]
  },
  {
   "cell_type": "code",
   "execution_count": 7,
   "id": "7d06255e",
   "metadata": {},
   "outputs": [],
   "source": [
    "from sklearn.model_selection import train_test_split \n",
    "\n",
    "x_train, x_test, y_train, y_test = train_test_split(x, y, test_size=0.3, random_state=42)"
   ]
  },
  {
   "cell_type": "code",
   "execution_count": 8,
   "id": "24ab647f",
   "metadata": {},
   "outputs": [],
   "source": [
    "# Scaling the features by using MinMaxScaler\n",
    "\n",
    "from sklearn.preprocessing import MinMaxScaler\n",
    "\n",
    "mmscaler = MinMaxScaler(feature_range=(0, 1))\n",
    "\n",
    "x_train = mmscaler.fit_transform(x_train)\n",
    "x_train = pd.DataFrame(x_train)\n",
    "\n",
    "x_test = mmscaler.fit_transform(x_test)\n",
    "x_test = pd.DataFrame(x_test)"
   ]
  },
  {
   "cell_type": "code",
   "execution_count": 9,
   "id": "9f540da1",
   "metadata": {},
   "outputs": [
    {
     "data": {
      "text/html": [
       "<div>\n",
       "<style scoped>\n",
       "    .dataframe tbody tr th:only-of-type {\n",
       "        vertical-align: middle;\n",
       "    }\n",
       "\n",
       "    .dataframe tbody tr th {\n",
       "        vertical-align: top;\n",
       "    }\n",
       "\n",
       "    .dataframe thead th {\n",
       "        text-align: right;\n",
       "    }\n",
       "</style>\n",
       "<table border=\"1\" class=\"dataframe\">\n",
       "  <thead>\n",
       "    <tr style=\"text-align: right;\">\n",
       "      <th></th>\n",
       "      <th>Model Name</th>\n",
       "      <th>True Positive</th>\n",
       "      <th>False Negative</th>\n",
       "      <th>False Positive</th>\n",
       "      <th>True Negative</th>\n",
       "      <th>Accuracy</th>\n",
       "      <th>Precision</th>\n",
       "      <th>Recall</th>\n",
       "      <th>F1 Score</th>\n",
       "      <th>Specificity</th>\n",
       "      <th>MCC</th>\n",
       "      <th>ROC_AUC_Score</th>\n",
       "      <th>Balanced Accuracy</th>\n",
       "    </tr>\n",
       "  </thead>\n",
       "  <tbody>\n",
       "  </tbody>\n",
       "</table>\n",
       "</div>"
      ],
      "text/plain": [
       "Empty DataFrame\n",
       "Columns: [Model Name, True Positive, False Negative, False Positive, True Negative, Accuracy, Precision, Recall, F1 Score, Specificity, MCC, ROC_AUC_Score, Balanced Accuracy]\n",
       "Index: []"
      ]
     },
     "execution_count": 9,
     "metadata": {},
     "output_type": "execute_result"
    }
   ],
   "source": [
    "CSResults = pd.read_csv(r\"C:\\Users\\Narasimha Reddy\\OneDrive\\Desktop\\Bootcamp\\hackthon.csv\", header=0)\n",
    "CSResults.head()"
   ]
  },
  {
   "cell_type": "code",
   "execution_count": 10,
   "id": "81c36ece",
   "metadata": {},
   "outputs": [
    {
     "name": "stdout",
     "output_type": "stream",
     "text": [
      "Model Name:  LogisticRegression()\n",
      "Confusion matrix : \n",
      " [[26910    40]\n",
      " [  100  2950]]\n",
      "Outcome values : \n",
      " 26910 40 100 2950\n",
      "Classification report : \n",
      "               precision    recall  f1-score   support\n",
      "\n",
      "           1       1.00      1.00      1.00     26950\n",
      "           0       0.99      0.97      0.98      3050\n",
      "\n",
      "    accuracy                           1.00     30000\n",
      "   macro avg       0.99      0.98      0.99     30000\n",
      "weighted avg       1.00      1.00      1.00     30000\n",
      "\n",
      "Accuracy : 99.5 %\n",
      "Precision : 99.6 %\n",
      "Recall : 99.9 %\n",
      "F1 Score : 0.997\n",
      "Specificity or True Negative Rate : 96.7 %\n",
      "Balanced Accuracy : 98.3 %\n",
      "roc_auc_score: 0.983\n"
     ]
    },
    {
     "data": {
      "image/png": "[encoded data removed]",
      "text/plain": [
       "<Figure size 432x288 with 1 Axes>"
      ]
     },
     "metadata": {
      "needs_background": "light"
     },
     "output_type": "display_data"
    },
    {
     "name": "stdout",
     "output_type": "stream",
     "text": [
      "-----------------------------------------------------------------------------------------------------\n",
      "Model Name:  DecisionTreeClassifier()\n",
      "Confusion matrix : \n",
      " [[26915    35]\n",
      " [   67  2983]]\n",
      "Outcome values : \n",
      " 26915 35 67 2983\n",
      "Classification report : \n",
      "               precision    recall  f1-score   support\n",
      "\n",
      "           1       1.00      1.00      1.00     26950\n",
      "           0       0.99      0.98      0.98      3050\n",
      "\n",
      "    accuracy                           1.00     30000\n",
      "   macro avg       0.99      0.99      0.99     30000\n",
      "weighted avg       1.00      1.00      1.00     30000\n",
      "\n",
      "Accuracy : 99.7 %\n",
      "Precision : 99.8 %\n",
      "Recall : 99.9 %\n",
      "F1 Score : 0.998\n",
      "Specificity or True Negative Rate : 97.8 %\n",
      "Balanced Accuracy : 98.8 %\n",
      "roc_auc_score: 0.988\n"
     ]
    },
    {
     "data": {
      "image/png": "[encoded data removed]",
      "text/plain": [
       "<Figure size 432x288 with 1 Axes>"
      ]
     },
     "metadata": {
      "needs_background": "light"
     },
     "output_type": "display_data"
    },
    {
     "name": "stdout",
     "output_type": "stream",
     "text": [
      "-----------------------------------------------------------------------------------------------------\n",
      "Model Name:  RandomForestClassifier()\n",
      "Confusion matrix : \n",
      " [[26927    23]\n",
      " [   78  2972]]\n",
      "Outcome values : \n",
      " 26927 23 78 2972\n",
      "Classification report : \n",
      "               precision    recall  f1-score   support\n",
      "\n",
      "           1       1.00      1.00      1.00     26950\n",
      "           0       0.99      0.97      0.98      3050\n",
      "\n",
      "    accuracy                           1.00     30000\n",
      "   macro avg       0.99      0.99      0.99     30000\n",
      "weighted avg       1.00      1.00      1.00     30000\n",
      "\n",
      "Accuracy : 99.7 %\n",
      "Precision : 99.7 %\n",
      "Recall : 99.9 %\n",
      "F1 Score : 0.998\n",
      "Specificity or True Negative Rate : 97.4 %\n",
      "Balanced Accuracy : 98.6 %\n",
      "roc_auc_score: 0.987\n"
     ]
    },
    {
     "data": {
      "image/png": "[encoded data removed]",
      "text/plain": [
       "<Figure size 432x288 with 1 Axes>"
      ]
     },
     "metadata": {
      "needs_background": "light"
     },
     "output_type": "display_data"
    },
    {
     "name": "stdout",
     "output_type": "stream",
     "text": [
      "-----------------------------------------------------------------------------------------------------\n",
      "Model Name:  ExtraTreesClassifier()\n",
      "Confusion matrix : \n",
      " [[26913    37]\n",
      " [  122  2928]]\n",
      "Outcome values : \n",
      " 26913 37 122 2928\n",
      "Classification report : \n",
      "               precision    recall  f1-score   support\n",
      "\n",
      "           1       1.00      1.00      1.00     26950\n",
      "           0       0.99      0.96      0.97      3050\n",
      "\n",
      "    accuracy                           0.99     30000\n",
      "   macro avg       0.99      0.98      0.99     30000\n",
      "weighted avg       0.99      0.99      0.99     30000\n",
      "\n",
      "Accuracy : 99.5 %\n",
      "Precision : 99.5 %\n",
      "Recall : 99.9 %\n",
      "F1 Score : 0.997\n",
      "Specificity or True Negative Rate : 96.0 %\n",
      "Balanced Accuracy : 98.0 %\n",
      "roc_auc_score: 0.979\n"
     ]
    },
    {
     "data": {
      "image/png": "[encoded data removed]",
      "text/plain": [
       "<Figure size 432x288 with 1 Axes>"
      ]
     },
     "metadata": {
      "needs_background": "light"
     },
     "output_type": "display_data"
    },
    {
     "name": "stdout",
     "output_type": "stream",
     "text": [
      "-----------------------------------------------------------------------------------------------------\n",
      "Model Name:  KNeighborsClassifier()\n",
      "Confusion matrix : \n",
      " [[26784   166]\n",
      " [  319  2731]]\n",
      "Outcome values : \n",
      " 26784 166 319 2731\n",
      "Classification report : \n",
      "               precision    recall  f1-score   support\n",
      "\n",
      "           1       0.99      0.99      0.99     26950\n",
      "           0       0.94      0.90      0.92      3050\n",
      "\n",
      "    accuracy                           0.98     30000\n",
      "   macro avg       0.97      0.94      0.95     30000\n",
      "weighted avg       0.98      0.98      0.98     30000\n",
      "\n",
      "Accuracy : 98.4 %\n",
      "Precision : 98.8 %\n",
      "Recall : 99.4 %\n",
      "F1 Score : 0.991\n",
      "Specificity or True Negative Rate : 89.5 %\n",
      "Balanced Accuracy : 94.4 %\n",
      "roc_auc_score: 0.945\n"
     ]
    },
    {
     "data": {
      "image/png": "[encoded data removed]",
      "text/plain": [
       "<Figure size 432x288 with 1 Axes>"
      ]
     },
     "metadata": {
      "needs_background": "light"
     },
     "output_type": "display_data"
    },
    {
     "name": "stdout",
     "output_type": "stream",
     "text": [
      "-----------------------------------------------------------------------------------------------------\n",
      "Model Name:  GaussianNB()\n",
      "Confusion matrix : \n",
      " [[25810  1140]\n",
      " [  362  2688]]\n",
      "Outcome values : \n",
      " 25810 1140 362 2688\n",
      "Classification report : \n",
      "               precision    recall  f1-score   support\n",
      "\n",
      "           1       0.99      0.96      0.97     26950\n",
      "           0       0.70      0.88      0.78      3050\n",
      "\n",
      "    accuracy                           0.95     30000\n",
      "   macro avg       0.84      0.92      0.88     30000\n",
      "weighted avg       0.96      0.95      0.95     30000\n",
      "\n",
      "Accuracy : 95.0 %\n",
      "Precision : 98.6 %\n",
      "Recall : 95.8 %\n",
      "F1 Score : 0.972\n",
      "Specificity or True Negative Rate : 88.1 %\n",
      "Balanced Accuracy : 92.0 %\n",
      "roc_auc_score: 0.92\n"
     ]
    },
    {
     "data": {
      "image/png": "[encoded data removed]",
      "text/plain": [
       "<Figure size 432x288 with 1 Axes>"
      ]
     },
     "metadata": {
      "needs_background": "light"
     },
     "output_type": "display_data"
    },
    {
     "name": "stdout",
     "output_type": "stream",
     "text": [
      "-----------------------------------------------------------------------------------------------------\n",
      "Model Name:  XGBClassifier(base_score=0.5, booster='gbtree', callbacks=None,\n",
      "              colsample_bylevel=1, colsample_bynode=1, colsample_bytree=1,\n",
      "              early_stopping_rounds=None, enable_categorical=False,\n",
      "              eval_metric=None, gamma=0, gpu_id=-1, grow_policy='depthwise',\n",
      "              importance_type=None, interaction_constraints='',\n",
      "              learning_rate=0.300000012, max_bin=256, max_cat_to_onehot=4,\n",
      "              max_delta_step=0, max_depth=6, max_leaves=0, min_child_weight=1,\n",
      "              missing=nan, monotone_constraints='()', n_estimators=100,\n",
      "              n_jobs=0, num_parallel_tree=1, predictor='auto', random_state=0,\n",
      "              reg_alpha=0, reg_lambda=1, ...)\n",
      "Confusion matrix : \n",
      " [[26934    16]\n",
      " [   48  3002]]\n",
      "Outcome values : \n",
      " 26934 16 48 3002\n",
      "Classification report : \n",
      "               precision    recall  f1-score   support\n",
      "\n",
      "           1       1.00      1.00      1.00     26950\n",
      "           0       0.99      0.98      0.99      3050\n",
      "\n",
      "    accuracy                           1.00     30000\n",
      "   macro avg       1.00      0.99      0.99     30000\n",
      "weighted avg       1.00      1.00      1.00     30000\n",
      "\n",
      "Accuracy : 99.8 %\n",
      "Precision : 99.8 %\n",
      "Recall : 99.9 %\n",
      "F1 Score : 0.999\n",
      "Specificity or True Negative Rate : 98.4 %\n",
      "Balanced Accuracy : 99.2 %\n",
      "roc_auc_score: 0.992\n"
     ]
    },
    {
     "data": {
      "image/png": "[encoded data removed]",
      "text/plain": [
       "<Figure size 432x288 with 1 Axes>"
      ]
     },
     "metadata": {
      "needs_background": "light"
     },
     "output_type": "display_data"
    },
    {
     "name": "stdout",
     "output_type": "stream",
     "text": [
      "-----------------------------------------------------------------------------------------------------\n",
      "Model Name:  LGBMClassifier()\n",
      "Confusion matrix : \n",
      " [[26934    16]\n",
      " [   47  3003]]\n",
      "Outcome values : \n",
      " 26934 16 47 3003\n",
      "Classification report : \n",
      "               precision    recall  f1-score   support\n",
      "\n",
      "           1       1.00      1.00      1.00     26950\n",
      "           0       0.99      0.98      0.99      3050\n",
      "\n",
      "    accuracy                           1.00     30000\n",
      "   macro avg       1.00      0.99      0.99     30000\n",
      "weighted avg       1.00      1.00      1.00     30000\n",
      "\n",
      "Accuracy : 99.8 %\n",
      "Precision : 99.8 %\n",
      "Recall : 99.9 %\n",
      "F1 Score : 0.999\n",
      "Specificity or True Negative Rate : 98.5 %\n",
      "Balanced Accuracy : 99.2 %\n",
      "roc_auc_score: 0.992\n"
     ]
    },
    {
     "data": {
      "image/png": "[encoded data removed]",
      "text/plain": [
       "<Figure size 432x288 with 1 Axes>"
      ]
     },
     "metadata": {
      "needs_background": "light"
     },
     "output_type": "display_data"
    },
    {
     "name": "stdout",
     "output_type": "stream",
     "text": [
      "-----------------------------------------------------------------------------------------------------\n",
      "Model Name:  BaggingClassifier(n_estimators=100)\n",
      "Confusion matrix : \n",
      " [[26935    15]\n",
      " [   42  3008]]\n",
      "Outcome values : \n",
      " 26935 15 42 3008\n",
      "Classification report : \n",
      "               precision    recall  f1-score   support\n",
      "\n",
      "           1       1.00      1.00      1.00     26950\n",
      "           0       1.00      0.99      0.99      3050\n",
      "\n",
      "    accuracy                           1.00     30000\n",
      "   macro avg       1.00      0.99      0.99     30000\n",
      "weighted avg       1.00      1.00      1.00     30000\n",
      "\n",
      "Accuracy : 99.8 %\n",
      "Precision : 99.8 %\n",
      "Recall : 99.9 %\n",
      "F1 Score : 0.999\n",
      "Specificity or True Negative Rate : 98.6 %\n",
      "Balanced Accuracy : 99.2 %\n",
      "roc_auc_score: 0.993\n"
     ]
    },
    {
     "data": {
      "image/png": "[encoded data removed]",
      "text/plain": [
       "<Figure size 432x288 with 1 Axes>"
      ]
     },
     "metadata": {
      "needs_background": "light"
     },
     "output_type": "display_data"
    },
    {
     "name": "stdout",
     "output_type": "stream",
     "text": [
      "-----------------------------------------------------------------------------------------------------\n"
     ]
    }
   ],
   "source": [
    "# Build the Calssification models with Over Sampling and compare the results\n",
    "\n",
    "from sklearn.linear_model import LogisticRegression\n",
    "from sklearn.tree import DecisionTreeClassifier\n",
    "from sklearn.ensemble import RandomForestClassifier\n",
    "from sklearn.ensemble import ExtraTreesClassifier\n",
    "from sklearn.neighbors import KNeighborsClassifier\n",
    "from sklearn.naive_bayes import GaussianNB\n",
    "from xgboost import XGBClassifier\n",
    "import lightgbm as lgb\n",
    "from sklearn.ensemble import BaggingClassifier\n",
    "\n",
    "# Create objects of classification algorithms with default hyper-parameters\n",
    "\n",
    "ModelLR = LogisticRegression()\n",
    "ModelDC = DecisionTreeClassifier()\n",
    "ModelRF = RandomForestClassifier()\n",
    "ModelET = ExtraTreesClassifier()\n",
    "ModelKNN = KNeighborsClassifier()\n",
    "ModelGNB=GaussianNB()\n",
    "ModelXGB=XGBClassifier()\n",
    "ModelLGB = lgb.LGBMClassifier()\n",
    "ModelBAG=modelBAG = BaggingClassifier(base_estimator=None, n_estimators=100, max_samples=1.0, max_features=1.0,\n",
    "                             bootstrap=True, bootstrap_features=False, oob_score=False, warm_start=False,\n",
    "                             n_jobs=None, random_state=None, verbose=0)\n",
    "\n",
    "\n",
    "# Evalution matrix for all the algorithm\n",
    "\n",
    "MM = [ModelLR, ModelDC, ModelRF, ModelET,ModelKNN,ModelGNB,ModelXGB,ModelLGB,ModelBAG]\n",
    "for models in MM:\n",
    "            \n",
    "    # Train the model training dataset\n",
    "    \n",
    "    models.fit(x_train, y_train)\n",
    "    \n",
    "    # Prediction the model with test dataset\n",
    "    \n",
    "    y_pred = models.predict(x_test)\n",
    "    y_pred_prob = models.predict_proba(x_test)\n",
    "    \n",
    "    # Print the model name\n",
    "    \n",
    "    print('Model Name: ', models)\n",
    "    \n",
    "    # confusion matrix in sklearn\n",
    "\n",
    "    from sklearn.metrics import confusion_matrix\n",
    "    from sklearn.metrics import classification_report\n",
    "\n",
    "    # actual values\n",
    "\n",
    "    actual = y_test\n",
    "\n",
    "    # predicted values\n",
    "\n",
    "    predicted = y_pred\n",
    "\n",
    "    # confusion matrix\n",
    "\n",
    "    matrix = confusion_matrix(actual,predicted, labels=[1,0],sample_weight=None, normalize=None)\n",
    "    print('Confusion matrix : \\n', matrix)\n",
    "\n",
    "    # outcome values order in sklearn\n",
    "\n",
    "    tp, fn, fp, tn = confusion_matrix(actual,predicted,labels=[1,0]).reshape(-1)\n",
    "    print('Outcome values : \\n', tp, fn, fp, tn)\n",
    "\n",
    "    # classification report for precision, recall f1-score and accuracy\n",
    "\n",
    "    C_Report = classification_report(actual,predicted,labels=[1,0])\n",
    "\n",
    "    print('Classification report : \\n', C_Report)\n",
    "\n",
    "    # calculating the metrics\n",
    "\n",
    "    sensitivity = round(tp/(tp+fn), 3);\n",
    "    specificity = round(tn/(tn+fp), 3);\n",
    "    accuracy = round((tp+tn)/(tp+fp+tn+fn), 3);\n",
    "    balanced_accuracy = round((sensitivity+specificity)/2, 3);\n",
    "    \n",
    "    precision = round(tp/(tp+fp), 3);\n",
    "    f1Score = round((2*tp/(2*tp + fp + fn)), 3);\n",
    "\n",
    "    # Matthews Correlation Coefficient (MCC). Range of values of MCC lie between -1 to +1. \n",
    "    # A model with a score of +1 is a perfect model and -1 is a poor model\n",
    "\n",
    "    #from math import sqrt\n",
    "\n",
    "    #mx = (tp+fp) * (tp+fn) * (tn+fp) * (tn+fn)\n",
    "    #MCC = round(((tp * tn) - (fp * fn)) / sqrt(mx), 3)\n",
    "\n",
    "    print('Accuracy :', round(accuracy*100, 2),'%')\n",
    "    print('Precision :', round(precision*100, 2),'%')\n",
    "    print('Recall :', round(sensitivity*100,2), '%')\n",
    "    print('F1 Score :', f1Score)\n",
    "    print('Specificity or True Negative Rate :', round(specificity*100,2), '%'  )\n",
    "    print('Balanced Accuracy :', round(balanced_accuracy*100, 2),'%')\n",
    "    #print('MCC :', MCC)\n",
    "\n",
    "    # Area under ROC curve \n",
    "\n",
    "    from sklearn.metrics import roc_curve, roc_auc_score\n",
    "\n",
    "    print('roc_auc_score:', round(roc_auc_score(actual, y_pred), 3))\n",
    "    \n",
    "    # ROC Curve\n",
    "    \n",
    "    from sklearn.metrics import roc_auc_score\n",
    "    from sklearn.metrics import roc_curve\n",
    "    Model_roc_auc = roc_auc_score(actual, y_pred)\n",
    "    fpr, tpr, thresholds = roc_curve(actual, models.predict_proba(x_test)[:,1])\n",
    "    plt.figure()\n",
    "    #\n",
    "    plt.plot(fpr, tpr, label= 'Classification Model' % Model_roc_auc)\n",
    "    plt.plot([0, 1], [0, 1],'r--')\n",
    "    plt.xlim([0.0, 1.0])\n",
    "    plt.ylim([0.0, 1.05])\n",
    "    plt.xlabel('False Positive Rate')\n",
    "    plt.ylabel('True Positive Rate')\n",
    "    plt.title('Receiver operating characteristic')\n",
    "    plt.legend(loc=\"lower right\")\n",
    "    plt.savefig('Log_ROC')\n",
    "    plt.show()\n",
    "    print('-----------------------------------------------------------------------------------------------------')\n",
    "    #----------------------------------------------------------------------------------------------------------\n",
    "    new_row = {'Model Name' : models,\n",
    "               'True Positive': tp,\n",
    "               'False Negative': fn, \n",
    "               'False Positive': fp, \n",
    "               'True Negative': tn,\n",
    "               'Accuracy' : accuracy,\n",
    "               'Precision' : precision,\n",
    "               'Recall' : sensitivity,\n",
    "               'F1 Score' : f1Score,\n",
    "               'Specificity' : specificity,\n",
    "               'MCC': 'MCC',\n",
    "               'ROC_AUC_Score':roc_auc_score(actual, y_pred),\n",
    "               'Balanced Accuracy':balanced_accuracy}\n",
    "    CSResults = CSResults.append(new_row, ignore_index=True)\n",
    "    #----------------------------------------------------------------------------------------------------------"
   ]
  },
  {
   "cell_type": "code",
   "execution_count": null,
   "id": "08dd2888",
   "metadata": {},
   "outputs": [],
   "source": [
    "CSResults.to_csv()"
   ]
  },
  {
   "cell_type": "code",
   "execution_count": 11,
   "id": "a16c8909",
   "metadata": {},
   "outputs": [
    {
     "data": {
      "text/plain": [
       "((70000, 8), (30000, 8), (70000, 1), (30000, 1))"
      ]
     },
     "execution_count": 11,
     "metadata": {},
     "output_type": "execute_result"
    }
   ],
   "source": [
    "from sklearn.model_selection import train_test_split \n",
    "\n",
    "x_train, x_test, y_train, y_test = train_test_split(x, y_, test_size=0.3, random_state=0)\n",
    "x_train.shape, x_test.shape, y_train.shape, y_test.shape"
   ]
  },
  {
   "cell_type": "code",
   "execution_count": 12,
   "id": "e675c4c5",
   "metadata": {},
   "outputs": [],
   "source": [
    "# Scaling the features by using MinMaxScaler\n",
    "\n",
    "from sklearn.preprocessing import MinMaxScaler\n",
    "\n",
    "mmscaler = MinMaxScaler(feature_range=(0, 1))\n",
    "\n",
    "x_train= mmscaler.fit_transform(x_train)\n",
    "x_train = pd.DataFrame(x_train)\n",
    "\n",
    "x_test = mmscaler.fit_transform(x_test)\n",
    "x_test = pd.DataFrame(x_test)"
   ]
  },
  {
   "cell_type": "code",
   "execution_count": 13,
   "id": "1171f9be",
   "metadata": {},
   "outputs": [
    {
     "data": {
      "text/html": [
       "<div>\n",
       "<style scoped>\n",
       "    .dataframe tbody tr th:only-of-type {\n",
       "        vertical-align: middle;\n",
       "    }\n",
       "\n",
       "    .dataframe tbody tr th {\n",
       "        vertical-align: top;\n",
       "    }\n",
       "\n",
       "    .dataframe thead th {\n",
       "        text-align: right;\n",
       "    }\n",
       "</style>\n",
       "<table border=\"1\" class=\"dataframe\">\n",
       "  <thead>\n",
       "    <tr style=\"text-align: right;\">\n",
       "      <th></th>\n",
       "      <th>Model Name</th>\n",
       "      <th>Mean_Absolute_Error_MAE</th>\n",
       "      <th>Adj_R_Square</th>\n",
       "      <th>Root_Mean_Squared_Error_RMSE</th>\n",
       "      <th>Mean_Absolute_Percentage_Error_MAPE</th>\n",
       "      <th>Mean_Squared_Error_MSE</th>\n",
       "      <th>Root_Mean_Squared_Log_Error_RMSLE</th>\n",
       "      <th>R2_score</th>\n",
       "    </tr>\n",
       "  </thead>\n",
       "  <tbody>\n",
       "  </tbody>\n",
       "</table>\n",
       "</div>"
      ],
      "text/plain": [
       "Empty DataFrame\n",
       "Columns: [Model Name, Mean_Absolute_Error_MAE, Adj_R_Square, Root_Mean_Squared_Error_RMSE, Mean_Absolute_Percentage_Error_MAPE, Mean_Squared_Error_MSE, Root_Mean_Squared_Log_Error_RMSLE, R2_score]\n",
       "Index: []"
      ]
     },
     "execution_count": 13,
     "metadata": {},
     "output_type": "execute_result"
    }
   ],
   "source": [
    "RGRResults = pd.read_csv(r\"C\\Users\\Narasimha Reddy\\OneDrive\\Desktop\\Bootcamp\\muni_1.csv\", header=0)\n",
    "RGRResults.head()"
   ]
  },
  {
   "cell_type": "code",
   "execution_count": null,
   "id": "1301a213",
   "metadata": {},
   "outputs": [
    {
     "name": "stdout",
     "output_type": "stream",
     "text": [
      "Model Name:  LinearRegression()\n",
      "Mean Absolute Error (MAE): 0.024\n",
      "Mean Squared Error (MSE): 0.001\n",
      "Root Mean Squared Error (RMSE): 0.028\n",
      "R2_score: 0.999995\n",
      "Root Mean Squared Log Error (RMSLE): -3.559\n",
      "Mean Absolute Percentage Error (MAPE): 0.05 %\n",
      "Adj R Square:  0.999995\n",
      "------------------------------------------------------------------------------------------------------------\n",
      "Model Name:  DecisionTreeRegressor()\n",
      "Mean Absolute Error (MAE): 0.132\n",
      "Mean Squared Error (MSE): 0.032\n",
      "Root Mean Squared Error (RMSE): 0.179\n",
      "R2_score: 0.999816\n",
      "Root Mean Squared Log Error (RMSLE): -1.719\n",
      "Mean Absolute Percentage Error (MAPE): 28.17 %\n",
      "Adj R Square:  0.999816\n",
      "------------------------------------------------------------------------------------------------------------\n",
      "Model Name:  RandomForestRegressor()\n",
      "Mean Absolute Error (MAE): 0.048\n",
      "Mean Squared Error (MSE): 0.005\n",
      "Root Mean Squared Error (RMSE): 0.07\n",
      "R2_score: 0.999972\n",
      "Root Mean Squared Log Error (RMSLE): -2.658\n"
     ]
    }
   ],
   "source": [
    "# Build the Regression / Regressor models\n",
    "\n",
    "from sklearn.linear_model import LinearRegression\n",
    "from sklearn.tree import DecisionTreeRegressor\n",
    "from sklearn.ensemble import RandomForestRegressor\n",
    "from sklearn.svm import SVR\n",
    "import xgboost as xgb\n",
    "from sklearn.neighbors import KNeighborsRegressor\n",
    "from sklearn.ensemble import ExtraTreesRegressor\n",
    "\n",
    "from sklearn.ensemble import GradientBoostingRegressor\n",
    "\n",
    "# Create objects of Regression / Regressor models with default hyper-parameters\n",
    "\n",
    "modelmlg = LinearRegression()\n",
    "modeldcr = DecisionTreeRegressor()\n",
    "modelrfr = RandomForestRegressor()\n",
    "modelSVR = SVR()\n",
    "modelXGR = xgb.XGBRegressor()\n",
    "modelKNN = KNeighborsRegressor(n_neighbors=5)\n",
    "modelETR = ExtraTreesRegressor()\n",
    "\n",
    "modelGBR = GradientBoostingRegressor()\n",
    "\n",
    "# Evalution matrix for all the algorithms\n",
    "\n",
    "MM = [modelmlg, modeldcr, modelrfr, modelSVR, modelXGR, modelKNN, modelETR, modelGBR]\n",
    "\n",
    "for models in MM:\n",
    "    \n",
    "    # Fit the model with train data\n",
    "    \n",
    "    models.fit(x_train, y_train)\n",
    "    \n",
    "    # Predict the model with test data\n",
    "\n",
    "    y_pred = models.predict(x_test)\n",
    "    \n",
    "    # Print the model name\n",
    "    \n",
    "    print('Model Name: ', models)\n",
    "    \n",
    "    # Evaluation metrics for Regression analysis\n",
    "\n",
    "    from sklearn import metrics\n",
    "\n",
    "    print('Mean Absolute Error (MAE):', round(metrics.mean_absolute_error(y_test, y_pred),3))  \n",
    "    print('Mean Squared Error (MSE):', round(metrics.mean_squared_error(y_test, y_pred),3))  \n",
    "    print('Root Mean Squared Error (RMSE):', round(np.sqrt(metrics.mean_squared_error(y_test, y_pred)),3))\n",
    "    print('R2_score:', round(metrics.r2_score(y_test, y_pred),6))\n",
    "    print('Root Mean Squared Log Error (RMSLE):', round(np.log(np.sqrt(metrics.mean_squared_error(y_test, y_pred))),3))\n",
    "    \n",
    "    # Define the function to calculate the MAPE - Mean Absolute Percentage Error\n",
    "\n",
    "    def MAPE (y_test, y_pred):\n",
    "        y_test, y_pred = np.array(y_test), np.array(y_pred)\n",
    "        return np.mean(np.abs((y_test - y_pred) / y_test)) * 100\n",
    "    \n",
    "    # Evaluation of MAPE \n",
    "\n",
    "    result = MAPE(y_test, y_pred)\n",
    "    print('Mean Absolute Percentage Error (MAPE):', round(result, 2), '%')\n",
    "    \n",
    "    # Calculate Adjusted R squared values \n",
    "\n",
    "    r_squared = round(metrics.r2_score(y_test, y_pred),6)\n",
    "    adjusted_r_squared = round(1 - (1-r_squared)*(len(y)-1)/(len(y)-x.shape[1]-1),6)\n",
    "    print('Adj R Square: ', adjusted_r_squared)\n",
    "    print('------------------------------------------------------------------------------------------------------------')\n",
    "    #-------------------------------------------------------------------------------------------\n",
    "    new_row = {'Model Name' : models,\n",
    "               'Mean_Absolute_Error_MAE' : metrics.mean_absolute_error(y_test, y_pred),\n",
    "               'Adj_R_Square' : adjusted_r_squared,\n",
    "               'Root_Mean_Squared_Error_RMSE' : np.sqrt(metrics.mean_squared_error(y_test, y_pred)),\n",
    "               'Mean_Absolute_Percentage_Error_MAPE' : result,\n",
    "               'Mean_Squared_Error_MSE' : metrics.mean_squared_error(y_test, y_pred),\n",
    "               'Root_Mean_Squared_Log_Error_RMSLE': np.log(np.sqrt(metrics.mean_squared_error(y_test, y_pred))),\n",
    "               'R2_score' : metrics.r2_score(y_test, y_pred)}\n",
    "    RGRResults = RGRResults.append(new_row, ignore_index=True)\n",
    "    #-------------------------------------------------------------------------------------------"
   ]
  },
  {
   "cell_type": "code",
   "execution_count": 19,
   "id": "d2c50864",
   "metadata": {},
   "outputs": [
    {
     "data": {
      "text/plain": [
       "LinearRegression()"
      ]
     },
     "execution_count": 19,
     "metadata": {},
     "output_type": "execute_result"
    }
   ],
   "source": [
    "from sklearn.linear_model import LinearRegression\n",
    "regressor=LinearRegression()\n",
    "regressor.fit(x_train,y_train)"
   ]
  },
  {
   "cell_type": "code",
   "execution_count": 20,
   "id": "6f54bce0",
   "metadata": {},
   "outputs": [],
   "source": [
    "y_pred = regressor.predict(x_test)"
   ]
  },
  {
   "cell_type": "code",
   "execution_count": 31,
   "id": "85279d03",
   "metadata": {},
   "outputs": [
    {
     "data": {
      "text/plain": [
       "30000"
      ]
     },
     "execution_count": 31,
     "metadata": {},
     "output_type": "execute_result"
    }
   ],
   "source": [
    "y_pred.size"
   ]
  },
  {
   "cell_type": "code",
   "execution_count": 36,
   "id": "f6f6efaa",
   "metadata": {},
   "outputs": [
    {
     "data": {
      "text/plain": [
       "[<matplotlib.lines.Line2D at 0x1c70fd7b310>]"
      ]
     },
     "execution_count": 36,
     "metadata": {},
     "output_type": "execute_result"
    },
    {
     "data": {
      "image/png": "[encoded data removed]",
      "text/plain": [
       "<Figure size 640x480 with 1 Axes>"
      ]
     },
     "metadata": {},
     "output_type": "display_data"
    }
   ],
   "source": [
    "\n",
    "plt.plot(y_pred,y_test)"
   ]
  },
  {
   "cell_type": "code",
   "execution_count": null,
   "id": "a21c7f00",
   "metadata": {},
   "outputs": [],
   "source": []
  }
 ],
 "metadata": {
  "kernelspec": {
   "display_name": "Python 3 (ipykernel)",
   "language": "python",
   "name": "python3"
  },
  "language_info": {
   "codemirror_mode": {
    "name": "ipython",
    "version": 3
   },
   "file_extension": ".py",
   "mimetype": "text/x-python",
   "name": "python",
   "nbconvert_exporter": "python",
   "pygments_lexer": "ipython3",
   "version": "3.10.9"
  }
 },
 "nbformat": 4,
 "nbformat_minor": 5
}
